{
 "cells": [
  {
   "cell_type": "code",
   "execution_count": 37,
   "metadata": {},
   "outputs": [],
   "source": [
    "%matplotlib notebook\n",
    "\n",
    "from modsim import *"
   ]
  },
  {
   "cell_type": "code",
   "execution_count": 38,
   "metadata": {
    "collapsed": true
   },
   "outputs": [],
   "source": [
    "m = UNITS.meters\n",
    "s = UNITS.seconds"
   ]
  },
  {
   "cell_type": "code",
   "execution_count": 39,
   "metadata": {
    "collapsed": true
   },
   "outputs": [],
   "source": [
    "condition=Condition(floorheight=3*m,\n",
    "                   num_floors=3,\n",
    "                   v_max=.762*m/s,\n",
    "                   a=.65*m/s**2)"
   ]
  },
  {
   "cell_type": "code",
   "execution_count": null,
   "metadata": {
    "collapsed": true
   },
   "outputs": [],
   "source": []
  },
  {
   "cell_type": "code",
   "execution_count": 56,
   "metadata": {},
   "outputs": [],
   "source": [
    "def make_system(condition):\n",
    "    unpack(condition)\n",
    "    height=floorheight*num_floors\n",
    "    init=State(y=0*m,vy=0*m/s)\n",
    "    ts=linspace(0,40,401)\n",
    "    return System(height=height,v_max=v_max, a=a, init=init, ts=ts)"
   ]
  },
  {
   "cell_type": "code",
   "execution_count": 57,
   "metadata": {},
   "outputs": [],
   "source": [
    "system=make_system(condition)"
   ]
  },
  {
   "cell_type": "code",
   "execution_count": null,
   "metadata": {
    "collapsed": true,
    "scrolled": true
   },
   "outputs": [],
   "source": [
    "#TODO: Find Magic Time"
   ]
  },
  {
   "cell_type": "code",
   "execution_count": 58,
   "metadata": {
    "collapsed": true
   },
   "outputs": [],
   "source": [
    "def slope_func(state, t, system):\n",
    "    unpack(system)\n",
    "    y,vy=state\n",
    "    dydt=vy\n",
    "    dvdt=a\n",
    "    if(vy>v_max):\n",
    "        dvdt=0\n",
    "    #TODO: Make acceleration reverse at magic time\n",
    "    return dydt, dvdt"
   ]
  },
  {
   "cell_type": "code",
   "execution_count": 59,
   "metadata": {},
   "outputs": [
    {
     "name": "stdout",
     "output_type": "stream",
     "text": [
      "0.65 meter / second ** 2\n",
      "0.0 meter / second\n"
     ]
    }
   ],
   "source": [
    "dydt, dvdt = slope_func(system.init, 0, system)\n",
    "print(dvdt)\n",
    "print(dydt)"
   ]
  },
  {
   "cell_type": "code",
   "execution_count": 60,
   "metadata": {},
   "outputs": [],
   "source": [
    "run_odeint(system, slope_func)"
   ]
  },
  {
   "cell_type": "code",
   "execution_count": 61,
   "metadata": {},
   "outputs": [
    {
     "data": {
      "text/plain": [
       "<bound method NDFrame.head of               y     vy\n",
       "0.0    0.000000  0.000\n",
       "0.1    0.003250  0.065\n",
       "0.2    0.013000  0.130\n",
       "0.3    0.029250  0.195\n",
       "0.4    0.052000  0.260\n",
       "0.5    0.081250  0.325\n",
       "0.6    0.117000  0.390\n",
       "0.7    0.159250  0.455\n",
       "0.8    0.208000  0.520\n",
       "0.9    0.263250  0.585\n",
       "1.0    0.325000  0.650\n",
       "1.1    0.393250  0.715\n",
       "1.2    0.467751  0.762\n",
       "1.3    0.543951  0.762\n",
       "1.4    0.620151  0.762\n",
       "1.5    0.696351  0.762\n",
       "1.6    0.772551  0.762\n",
       "1.7    0.848751  0.762\n",
       "1.8    0.924951  0.762\n",
       "1.9    1.001151  0.762\n",
       "2.0    1.077351  0.762\n",
       "2.1    1.153551  0.762\n",
       "2.2    1.229751  0.762\n",
       "2.3    1.305951  0.762\n",
       "2.4    1.382151  0.762\n",
       "2.5    1.458351  0.762\n",
       "2.6    1.534551  0.762\n",
       "2.7    1.610751  0.762\n",
       "2.8    1.686951  0.762\n",
       "2.9    1.763151  0.762\n",
       "...         ...    ...\n",
       "37.1  27.823551  0.762\n",
       "37.2  27.899751  0.762\n",
       "37.3  27.975951  0.762\n",
       "37.4  28.052151  0.762\n",
       "37.5  28.128352  0.762\n",
       "37.6  28.204552  0.762\n",
       "37.7  28.280752  0.762\n",
       "37.8  28.356952  0.762\n",
       "37.9  28.433152  0.762\n",
       "38.0  28.509352  0.762\n",
       "38.1  28.585552  0.762\n",
       "38.2  28.661752  0.762\n",
       "38.3  28.737952  0.762\n",
       "38.4  28.814152  0.762\n",
       "38.5  28.890352  0.762\n",
       "38.6  28.966552  0.762\n",
       "38.7  29.042752  0.762\n",
       "38.8  29.118952  0.762\n",
       "38.9  29.195152  0.762\n",
       "39.0  29.271352  0.762\n",
       "39.1  29.347552  0.762\n",
       "39.2  29.423752  0.762\n",
       "39.3  29.499952  0.762\n",
       "39.4  29.576152  0.762\n",
       "39.5  29.652352  0.762\n",
       "39.6  29.728552  0.762\n",
       "39.7  29.804752  0.762\n",
       "39.8  29.880952  0.762\n",
       "39.9  29.957152  0.762\n",
       "40.0  30.033352  0.762\n",
       "\n",
       "[401 rows x 2 columns]>"
      ]
     },
     "execution_count": 61,
     "metadata": {},
     "output_type": "execute_result"
    }
   ],
   "source": [
    "system.results.head"
   ]
  },
  {
   "cell_type": "code",
   "execution_count": null,
   "metadata": {
    "collapsed": true
   },
   "outputs": [],
   "source": []
  }
 ],
 "metadata": {
  "kernelspec": {
   "display_name": "Python 3",
   "language": "python",
   "name": "python3"
  },
  "language_info": {
   "codemirror_mode": {
    "name": "ipython",
    "version": 3
   },
   "file_extension": ".py",
   "mimetype": "text/x-python",
   "name": "python",
   "nbconvert_exporter": "python",
   "pygments_lexer": "ipython3",
   "version": "3.6.1"
  }
 },
 "nbformat": 4,
 "nbformat_minor": 2
}
